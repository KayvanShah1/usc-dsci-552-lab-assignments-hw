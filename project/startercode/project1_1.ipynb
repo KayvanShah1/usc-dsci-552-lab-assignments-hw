{
    "cells": [
        {
            "cell_type": "markdown",
            "metadata": {
                "deletable": false,
                "editable": false,
                "nbgrader": {
                    "grade": false,
                    "locked": true,
                    "solution": false
                }
            },
            "source": [
                "## DSCI 552 Group Project\n",
                "### Version 1.1"
            ]
        },
        {
            "cell_type": "code",
            "execution_count": null,
            "metadata": {
                "collapsed": true
            },
            "outputs": [],
            "source": [
                "import random\n",
                "import pandas as pd\n",
                "from pathlib import Path\n",
                "from sklearn.metrics import f1_score\n",
                "\n",
                "import numpy as np\n",
                "\n",
                "import joblib\n",
                "import warnings\n",
                "warnings.simplefilter(\"ignore\")\n",
                "\n",
                "import PIL\n",
                "import PIL.Image\n",
                "\n",
                "import tensorflow\n",
                "import tensorflow as tf\n",
                "import tensorflow_hub as hub\n",
                "import tensorflow_addons as tfa"
            ]
        },
        {
            "cell_type": "code",
            "execution_count": null,
            "metadata": {},
            "outputs": [],
            "source": [
                "# Constants Variables\n",
                "CATEGORY_ENCODER_PATH = \"category_encoder.pkl\"\n",
                "LANDMARK_ENCODER_PATH = \"landmark_encoder.pkl\"\n",
                "MODEL_PATH = \"clc_classifier_model_tf28_try.h5\"\n",
                "INPUT_SHAPE = (224, 224, 3)\n",
                "\n",
                "# Load Encoders\n",
                "lb_category = joblib.load(CATEGORY_ENCODER_PATH)\n",
                "print(lb_category.classes_)\n",
                "lb_landmark = joblib.load(LANDMARK_ENCODER_PATH)\n",
                "lb_landmark.classes_ = [\n",
                "    'Academy of Athens', 'Bibi Ka Maqbara', 'Buckingham Palace','CCTV Headquarters', \n",
                "    'Cathedral of Brasília', 'ChartresCathedral','Chrysler Building', 'CologneCathedral', \n",
                "    'Concertgebouw','El Castillo, Chichen Itza', 'FogongTemplePagoda', 'GiantWildGoosePagoda',\n",
                "    'Hallgrímskirkja', 'Jama Masjid', 'Louvre Pyramid', 'MilanCathedral','Notre-DameCathedral', \n",
                "    'Panthéon', 'Pyramid of Djoser', 'Pyramid of Giza', 'Ripon Building', 'Santa Cecilia Acatitlan Pyramid', \n",
                "    'ShwedagonPagoda','St.VitusCathedral', 'Taj Mahal', 'ThienMuPagoda', 'TianningTemplePagoda', \n",
                "    'Tomb of Akbar', 'Tomb of I_timad-ud-Daulah', 'eiffel'\n",
                "]\n",
                "\n",
                "# Load Model\n",
                "model = tf.keras.models.load_model(\n",
                "    'clc_classifier_model_tf28_try.h5', \n",
                "    custom_objects={\"KerasLayer\": hub.KerasLayer}\n",
                ")"
            ]
        },
        {
            "cell_type": "code",
            "execution_count": null,
            "metadata": {},
            "outputs": [],
            "source": [
                "def read_imgs(path_to_image):\n",
                "    image = PIL.Image.open(path_to_image).convert(\"RGB\")\n",
                "    image = np.asarray(image.resize((INPUT_SHAPE[0], INPUT_SHAPE[1])))\n",
                "    image = image / 255.0\n",
                "    return image"
            ]
        },
        {
            "cell_type": "code",
            "execution_count": null,
            "metadata": {
                "collapsed": true
            },
            "outputs": [],
            "source": [
                "# This is a sample form of the structure of data frame of predictions. Please don't treat this as a solution\n",
                "def model_prediction(test_dir):\n",
                "    # categories\n",
                "    categories = ['Pagodas','Pyramids','Modern','Gothic','Mughal','Neoclassical']\n",
                "\n",
                "    # landmarks\n",
                "    landmarks = [\n",
                "        'TianningTemplePagoda','ThienMuPagoda','GiantWildGoosePagoda','ShwedagonPagoda',\n",
                "        'FogongTemplePagoda','Pyramid of Giza','Pyramid of Djoser','Santa Cecilia Acatitlan Pyramid',\n",
                "        'El Castillo, Chichen Itza','Louvre Pyramid','Chrysler Building','Cathedral of Brasília',\n",
                "        'CCTV Headquarters','Hallgrímskirkja','eiffel','St.VitusCathedral',\n",
                "        'MilanCathedral','ChartresCathedral','CologneCathedral','Notre-DameCathedral',\n",
                "        'Taj Mahal','Tomb of Akbar','Jama Masjid','Tomb of I_timad-ud-Daulah',\n",
                "        'Bibi Ka Maqbara','Buckingham Palace','Concertgebouw',\n",
                "        'Academy of Athens','Panthéon','Ripon Building','other']\n",
                "    results = []\n",
                "    # random.seed(10)\n",
                "    for images in Path(test_dir).glob('*'):\n",
                "        image = read_imgs(images)\n",
                "        image = image.reshape(-1, INPUT_SHAPE[0], INPUT_SHAPE[1], INPUT_SHAPE[2])\n",
                "\n",
                "        # Predict results\n",
                "        preds_cat, preds_land = model.predict(image)\n",
                "        cat = lb_category.classes_[np.argmax(preds_cat[0])]\n",
                "        cat_conf = preds_cat[0].max() * 100\n",
                "        land = lb_landmark.classes_[np.argmax(preds_land[0])]\n",
                "        land_conf = preds_land[0].max() * 100\n",
                "        \n",
                "        if land_conf < 0.2:\n",
                "            land = \"other\"\n",
                "            \n",
                "        results.append([\n",
                "            images.name,  \n",
                "            cat, cat_conf, \n",
                "            land, land_conf\n",
                "        ])\n",
                "    prediction = pd.DataFrame(\n",
                "        results, \n",
                "        columns = ['image', 'category', 'category_confidence', 'landmark', 'landmark_confidence'])\n",
                "    \n",
                "    # The columns of the 'prediction' dataframe should be filled after letting the model make the predictions\n",
                "    # You can use any number of models as long as the dataframe is filled\n",
                "    # Category_cofidence and landmare_confidence are percentage values (out of 100) for how confident your model is \n",
                "    # about its prediction\n",
                "    \n",
                "    \n",
                "    return prediction #data frame"
            ]
        },
        {
            "cell_type": "code",
            "execution_count": null,
            "metadata": {
                "collapsed": true,
                "deletable": false,
                "editable": false,
                "nbgrader": {
                    "grade": true,
                    "grade_id": "Show dataframe 1",
                    "locked": true,
                    "points": "5",
                    "solution": false
                }
            },
            "outputs": [],
            "source": [
                "# Run the function of model prediction\n",
                "###\n",
                "### AUTOGRADER TEST - DO NOT REMOVE\n",
                "###\n"
            ]
        },
        {
            "cell_type": "code",
            "execution_count": null,
            "metadata": {
                "collapsed": true,
                "deletable": false,
                "editable": false,
                "nbgrader": {
                    "grade": true,
                    "grade_id": "Show dataframe 2",
                    "locked": true,
                    "points": "5",
                    "solution": false
                }
            },
            "outputs": [],
            "source": [
                "###\n",
                "### AUTOGRADER TEST - DO NOT REMOVE\n",
                "###\n"
            ]
        },
        {
            "cell_type": "code",
            "execution_count": null,
            "metadata": {
                "collapsed": true,
                "deletable": false,
                "editable": false,
                "nbgrader": {
                    "grade": true,
                    "grade_id": "Category F1 score 50",
                    "locked": true,
                    "points": "50",
                    "solution": false
                }
            },
            "outputs": [],
            "source": [
                "###\n",
                "### AUTOGRADER TEST - DO NOT REMOVE\n",
                "###\n"
            ]
        },
        {
            "cell_type": "code",
            "execution_count": null,
            "metadata": {
                "collapsed": true,
                "deletable": false,
                "editable": false,
                "nbgrader": {
                    "grade": true,
                    "grade_id": "Category F1 score 60",
                    "locked": true,
                    "points": "10",
                    "solution": false
                }
            },
            "outputs": [],
            "source": [
                "###\n",
                "### AUTOGRADER TEST - DO NOT REMOVE\n",
                "###\n"
            ]
        },
        {
            "cell_type": "code",
            "execution_count": null,
            "metadata": {
                "collapsed": true,
                "deletable": false,
                "editable": false,
                "nbgrader": {
                    "grade": true,
                    "grade_id": "Category F1 score 70",
                    "locked": true,
                    "points": "10",
                    "solution": false
                }
            },
            "outputs": [],
            "source": [
                "###\n",
                "### AUTOGRADER TEST - DO NOT REMOVE\n",
                "###\n"
            ]
        },
        {
            "cell_type": "code",
            "execution_count": null,
            "metadata": {
                "collapsed": true,
                "deletable": false,
                "editable": false,
                "nbgrader": {
                    "grade": true,
                    "grade_id": "Category F1 score 80",
                    "locked": true,
                    "points": "10",
                    "solution": false
                }
            },
            "outputs": [],
            "source": [
                "###\n",
                "### AUTOGRADER TEST - DO NOT REMOVE\n",
                "###\n"
            ]
        },
        {
            "cell_type": "code",
            "execution_count": null,
            "metadata": {
                "collapsed": true,
                "deletable": false,
                "editable": false,
                "nbgrader": {
                    "grade": true,
                    "grade_id": "Category F1 score 90 ",
                    "locked": true,
                    "points": "10",
                    "solution": false
                }
            },
            "outputs": [],
            "source": [
                "###\n",
                "### AUTOGRADER TEST - DO NOT REMOVE\n",
                "###\n"
            ]
        },
        {
            "cell_type": "code",
            "execution_count": null,
            "metadata": {
                "collapsed": true,
                "deletable": false,
                "editable": false,
                "nbgrader": {
                    "grade": true,
                    "grade_id": "Category F1 score 95",
                    "locked": true,
                    "points": "5",
                    "solution": false
                }
            },
            "outputs": [],
            "source": [
                "###\n",
                "### AUTOGRADER TEST - DO NOT REMOVE\n",
                "###\n"
            ]
        },
        {
            "cell_type": "code",
            "execution_count": null,
            "metadata": {
                "collapsed": true,
                "deletable": false,
                "editable": false,
                "nbgrader": {
                    "grade": true,
                    "grade_id": "Landmark F1 score 50",
                    "locked": true,
                    "points": "50",
                    "solution": false
                }
            },
            "outputs": [],
            "source": [
                "###\n",
                "### AUTOGRADER TEST - DO NOT REMOVE\n",
                "###\n"
            ]
        },
        {
            "cell_type": "code",
            "execution_count": null,
            "metadata": {
                "collapsed": true,
                "deletable": false,
                "editable": false,
                "nbgrader": {
                    "grade": true,
                    "grade_id": "Landmark F1 score 60",
                    "locked": true,
                    "points": "10",
                    "solution": false
                }
            },
            "outputs": [],
            "source": [
                "###\n",
                "### AUTOGRADER TEST - DO NOT REMOVE\n",
                "###\n"
            ]
        },
        {
            "cell_type": "code",
            "execution_count": null,
            "metadata": {
                "collapsed": true,
                "deletable": false,
                "editable": false,
                "nbgrader": {
                    "grade": true,
                    "grade_id": "Landmark F1 score 70",
                    "locked": true,
                    "points": "10",
                    "solution": false
                }
            },
            "outputs": [],
            "source": [
                "###\n",
                "### AUTOGRADER TEST - DO NOT REMOVE\n",
                "###\n"
            ]
        },
        {
            "cell_type": "code",
            "execution_count": null,
            "metadata": {
                "collapsed": true,
                "deletable": false,
                "editable": false,
                "nbgrader": {
                    "grade": true,
                    "grade_id": "Landmark F1 score 80",
                    "locked": true,
                    "points": "10",
                    "solution": false
                }
            },
            "outputs": [],
            "source": [
                "###\n",
                "### AUTOGRADER TEST - DO NOT REMOVE\n",
                "###\n"
            ]
        },
        {
            "cell_type": "code",
            "execution_count": null,
            "metadata": {
                "collapsed": true,
                "deletable": false,
                "editable": false,
                "nbgrader": {
                    "grade": true,
                    "grade_id": "Landmark F1 score 90",
                    "locked": true,
                    "points": "10",
                    "solution": false
                }
            },
            "outputs": [],
            "source": [
                "###\n",
                "### AUTOGRADER TEST - DO NOT REMOVE\n",
                "###\n"
            ]
        },
        {
            "cell_type": "code",
            "execution_count": null,
            "metadata": {
                "collapsed": true,
                "deletable": false,
                "editable": false,
                "nbgrader": {
                    "grade": true,
                    "grade_id": "Landmark F1 score 95",
                    "locked": true,
                    "points": "5",
                    "solution": false
                }
            },
            "outputs": [],
            "source": [
                "###\n",
                "### AUTOGRADER TEST - DO NOT REMOVE\n",
                "###\n"
            ]
        }
    ],
    "metadata": {
        "kernelspec": {
            "display_name": "Python 3.8",
            "language": "python",
            "name": "python38"
        },
        "language_info": {
            "codemirror_mode": {
                "name": "ipython",
                "version": 3
            },
            "file_extension": ".py",
            "mimetype": "text/x-python",
            "name": "python",
            "nbconvert_exporter": "python",
            "pygments_lexer": "ipython3",
            "version": "3.8.7"
        }
    },
    "nbformat": 4,
    "nbformat_minor": 2
}
