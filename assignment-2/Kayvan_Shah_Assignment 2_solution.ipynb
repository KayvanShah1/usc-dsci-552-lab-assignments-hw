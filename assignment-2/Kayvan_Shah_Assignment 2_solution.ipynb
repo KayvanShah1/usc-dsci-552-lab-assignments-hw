{
  "cells": [
    {
      "cell_type": "markdown",
      "metadata": {
        "id": "view-in-github",
        "colab_type": "text"
      },
      "source": [
        "<a href=\"https://colab.research.google.com/github/KayvanShah1/usc-dsci-552-lab-assignments-hw/blob/main/assignment-2/Kayvan_Shah_Assignment%202_solution.ipynb\" target=\"_parent\"><img src=\"https://colab.research.google.com/assets/colab-badge.svg\" alt=\"Open In Colab\"/></a>"
      ]
    },
    {
      "cell_type": "markdown",
      "id": "d1697abd",
      "metadata": {
        "id": "d1697abd"
      },
      "source": [
        "# Assignment 2: Exploratory Data Analysis and K Nearest Neighbors Classification"
      ]
    },
    {
      "cell_type": "markdown",
      "id": "7c6bf81f",
      "metadata": {
        "id": "7c6bf81f"
      },
      "source": [
        "For this assignment you will perform exploratory data analysis to visualize Fisher’s Iris dataset using Scikit Learn. And, you will explore the bias/variance trade-off by applying k-nearest neighbors classification to the Iris dataset and varying the hyperparameter k.\n",
        "\n",
        "Documentation for Scikit Learn:\n",
        "+ The top level documenation page is here: https://scikit-learn.org/stable/index.html\n",
        "+ The API for the KNearestNeighborsClassifier is here: https://scikit-learn.org/stable/modules/generated/sklearn.neighbors.KNeighborsClassifier.html#sklearn.neighbors.KNeighborsClassifier\n",
        "+ The User Guide for KNearestNeighborsClassifier is here: https://scikit-learn.org/stable/modules/neighbors.html#classification\n",
        "+ Scikit Learn provides many Jupyter notebook examples on how use the toolkit. These Jupyter notebook examples can be run on MyBinder: https://scikit-learn.org/stable/auto_examples/index.html\n",
        "\n",
        "For more information about the Iris dataset, see this page https://en.wikipedia.org/wiki/Iris_flower_data_set."
      ]
    },
    {
      "cell_type": "code",
      "execution_count": 1,
      "id": "e7179951",
      "metadata": {
        "id": "e7179951"
      },
      "outputs": [],
      "source": [
        "import matplotlib.pyplot as plt\n",
        "from mpl_toolkits.mplot3d import Axes3D\n",
        "from sklearn import datasets\n",
        "from sklearn import neighbors\n",
        "from sklearn.model_selection import train_test_split\n",
        "from pandas import DataFrame"
      ]
    },
    {
      "cell_type": "markdown",
      "id": "fc297327",
      "metadata": {
        "id": "fc297327"
      },
      "source": [
        "Load Iris dataset"
      ]
    },
    {
      "cell_type": "code",
      "execution_count": 2,
      "id": "f40820bc",
      "metadata": {
        "id": "f40820bc"
      },
      "outputs": [],
      "source": [
        "iris = datasets.load_iris()\n",
        "X = iris.data  \n",
        "y = iris.target"
      ]
    },
    {
      "cell_type": "code",
      "execution_count": 3,
      "id": "3723bdc3",
      "metadata": {
        "id": "3723bdc3",
        "colab": {
          "base_uri": "https://localhost:8080/"
        },
        "outputId": "5260614e-1163-4b0f-8893-c796d86a61c1"
      },
      "outputs": [
        {
          "output_type": "stream",
          "name": "stdout",
          "text": [
            "Number of instances in the iris dataset: 150\n",
            "Number of features in the iris dataset: 4\n",
            "The dimension of the data matrix X is (150, 4)\n"
          ]
        }
      ],
      "source": [
        "print(\"Number of instances in the iris dataset:\", X.shape[0])\n",
        "print(\"Number of features in the iris dataset:\", X.shape[1])\n",
        "print(\"The dimension of the data matrix X is\", X.shape)"
      ]
    },
    {
      "cell_type": "code",
      "execution_count": 4,
      "id": "e7eafd13",
      "metadata": {
        "scrolled": true,
        "id": "e7eafd13",
        "colab": {
          "base_uri": "https://localhost:8080/"
        },
        "outputId": "a18627a6-f78d-40a7-879b-f2e043c916cd"
      },
      "outputs": [
        {
          "output_type": "execute_result",
          "data": {
            "text/plain": [
              "array([[5.1, 3.5, 1.4, 0.2],\n",
              "       [4.9, 3. , 1.4, 0.2],\n",
              "       [4.7, 3.2, 1.3, 0.2],\n",
              "       [4.6, 3.1, 1.5, 0.2],\n",
              "       [5. , 3.6, 1.4, 0.2],\n",
              "       [5.4, 3.9, 1.7, 0.4],\n",
              "       [4.6, 3.4, 1.4, 0.3],\n",
              "       [5. , 3.4, 1.5, 0.2],\n",
              "       [4.4, 2.9, 1.4, 0.2],\n",
              "       [4.9, 3.1, 1.5, 0.1],\n",
              "       [5.4, 3.7, 1.5, 0.2],\n",
              "       [4.8, 3.4, 1.6, 0.2],\n",
              "       [4.8, 3. , 1.4, 0.1],\n",
              "       [4.3, 3. , 1.1, 0.1],\n",
              "       [5.8, 4. , 1.2, 0.2],\n",
              "       [5.7, 4.4, 1.5, 0.4],\n",
              "       [5.4, 3.9, 1.3, 0.4],\n",
              "       [5.1, 3.5, 1.4, 0.3],\n",
              "       [5.7, 3.8, 1.7, 0.3],\n",
              "       [5.1, 3.8, 1.5, 0.3],\n",
              "       [5.4, 3.4, 1.7, 0.2],\n",
              "       [5.1, 3.7, 1.5, 0.4],\n",
              "       [4.6, 3.6, 1. , 0.2],\n",
              "       [5.1, 3.3, 1.7, 0.5],\n",
              "       [4.8, 3.4, 1.9, 0.2],\n",
              "       [5. , 3. , 1.6, 0.2],\n",
              "       [5. , 3.4, 1.6, 0.4],\n",
              "       [5.2, 3.5, 1.5, 0.2],\n",
              "       [5.2, 3.4, 1.4, 0.2],\n",
              "       [4.7, 3.2, 1.6, 0.2],\n",
              "       [4.8, 3.1, 1.6, 0.2],\n",
              "       [5.4, 3.4, 1.5, 0.4],\n",
              "       [5.2, 4.1, 1.5, 0.1],\n",
              "       [5.5, 4.2, 1.4, 0.2],\n",
              "       [4.9, 3.1, 1.5, 0.2],\n",
              "       [5. , 3.2, 1.2, 0.2],\n",
              "       [5.5, 3.5, 1.3, 0.2],\n",
              "       [4.9, 3.6, 1.4, 0.1],\n",
              "       [4.4, 3. , 1.3, 0.2],\n",
              "       [5.1, 3.4, 1.5, 0.2],\n",
              "       [5. , 3.5, 1.3, 0.3],\n",
              "       [4.5, 2.3, 1.3, 0.3],\n",
              "       [4.4, 3.2, 1.3, 0.2],\n",
              "       [5. , 3.5, 1.6, 0.6],\n",
              "       [5.1, 3.8, 1.9, 0.4],\n",
              "       [4.8, 3. , 1.4, 0.3],\n",
              "       [5.1, 3.8, 1.6, 0.2],\n",
              "       [4.6, 3.2, 1.4, 0.2],\n",
              "       [5.3, 3.7, 1.5, 0.2],\n",
              "       [5. , 3.3, 1.4, 0.2],\n",
              "       [7. , 3.2, 4.7, 1.4],\n",
              "       [6.4, 3.2, 4.5, 1.5],\n",
              "       [6.9, 3.1, 4.9, 1.5],\n",
              "       [5.5, 2.3, 4. , 1.3],\n",
              "       [6.5, 2.8, 4.6, 1.5],\n",
              "       [5.7, 2.8, 4.5, 1.3],\n",
              "       [6.3, 3.3, 4.7, 1.6],\n",
              "       [4.9, 2.4, 3.3, 1. ],\n",
              "       [6.6, 2.9, 4.6, 1.3],\n",
              "       [5.2, 2.7, 3.9, 1.4],\n",
              "       [5. , 2. , 3.5, 1. ],\n",
              "       [5.9, 3. , 4.2, 1.5],\n",
              "       [6. , 2.2, 4. , 1. ],\n",
              "       [6.1, 2.9, 4.7, 1.4],\n",
              "       [5.6, 2.9, 3.6, 1.3],\n",
              "       [6.7, 3.1, 4.4, 1.4],\n",
              "       [5.6, 3. , 4.5, 1.5],\n",
              "       [5.8, 2.7, 4.1, 1. ],\n",
              "       [6.2, 2.2, 4.5, 1.5],\n",
              "       [5.6, 2.5, 3.9, 1.1],\n",
              "       [5.9, 3.2, 4.8, 1.8],\n",
              "       [6.1, 2.8, 4. , 1.3],\n",
              "       [6.3, 2.5, 4.9, 1.5],\n",
              "       [6.1, 2.8, 4.7, 1.2],\n",
              "       [6.4, 2.9, 4.3, 1.3],\n",
              "       [6.6, 3. , 4.4, 1.4],\n",
              "       [6.8, 2.8, 4.8, 1.4],\n",
              "       [6.7, 3. , 5. , 1.7],\n",
              "       [6. , 2.9, 4.5, 1.5],\n",
              "       [5.7, 2.6, 3.5, 1. ],\n",
              "       [5.5, 2.4, 3.8, 1.1],\n",
              "       [5.5, 2.4, 3.7, 1. ],\n",
              "       [5.8, 2.7, 3.9, 1.2],\n",
              "       [6. , 2.7, 5.1, 1.6],\n",
              "       [5.4, 3. , 4.5, 1.5],\n",
              "       [6. , 3.4, 4.5, 1.6],\n",
              "       [6.7, 3.1, 4.7, 1.5],\n",
              "       [6.3, 2.3, 4.4, 1.3],\n",
              "       [5.6, 3. , 4.1, 1.3],\n",
              "       [5.5, 2.5, 4. , 1.3],\n",
              "       [5.5, 2.6, 4.4, 1.2],\n",
              "       [6.1, 3. , 4.6, 1.4],\n",
              "       [5.8, 2.6, 4. , 1.2],\n",
              "       [5. , 2.3, 3.3, 1. ],\n",
              "       [5.6, 2.7, 4.2, 1.3],\n",
              "       [5.7, 3. , 4.2, 1.2],\n",
              "       [5.7, 2.9, 4.2, 1.3],\n",
              "       [6.2, 2.9, 4.3, 1.3],\n",
              "       [5.1, 2.5, 3. , 1.1],\n",
              "       [5.7, 2.8, 4.1, 1.3],\n",
              "       [6.3, 3.3, 6. , 2.5],\n",
              "       [5.8, 2.7, 5.1, 1.9],\n",
              "       [7.1, 3. , 5.9, 2.1],\n",
              "       [6.3, 2.9, 5.6, 1.8],\n",
              "       [6.5, 3. , 5.8, 2.2],\n",
              "       [7.6, 3. , 6.6, 2.1],\n",
              "       [4.9, 2.5, 4.5, 1.7],\n",
              "       [7.3, 2.9, 6.3, 1.8],\n",
              "       [6.7, 2.5, 5.8, 1.8],\n",
              "       [7.2, 3.6, 6.1, 2.5],\n",
              "       [6.5, 3.2, 5.1, 2. ],\n",
              "       [6.4, 2.7, 5.3, 1.9],\n",
              "       [6.8, 3. , 5.5, 2.1],\n",
              "       [5.7, 2.5, 5. , 2. ],\n",
              "       [5.8, 2.8, 5.1, 2.4],\n",
              "       [6.4, 3.2, 5.3, 2.3],\n",
              "       [6.5, 3. , 5.5, 1.8],\n",
              "       [7.7, 3.8, 6.7, 2.2],\n",
              "       [7.7, 2.6, 6.9, 2.3],\n",
              "       [6. , 2.2, 5. , 1.5],\n",
              "       [6.9, 3.2, 5.7, 2.3],\n",
              "       [5.6, 2.8, 4.9, 2. ],\n",
              "       [7.7, 2.8, 6.7, 2. ],\n",
              "       [6.3, 2.7, 4.9, 1.8],\n",
              "       [6.7, 3.3, 5.7, 2.1],\n",
              "       [7.2, 3.2, 6. , 1.8],\n",
              "       [6.2, 2.8, 4.8, 1.8],\n",
              "       [6.1, 3. , 4.9, 1.8],\n",
              "       [6.4, 2.8, 5.6, 2.1],\n",
              "       [7.2, 3. , 5.8, 1.6],\n",
              "       [7.4, 2.8, 6.1, 1.9],\n",
              "       [7.9, 3.8, 6.4, 2. ],\n",
              "       [6.4, 2.8, 5.6, 2.2],\n",
              "       [6.3, 2.8, 5.1, 1.5],\n",
              "       [6.1, 2.6, 5.6, 1.4],\n",
              "       [7.7, 3. , 6.1, 2.3],\n",
              "       [6.3, 3.4, 5.6, 2.4],\n",
              "       [6.4, 3.1, 5.5, 1.8],\n",
              "       [6. , 3. , 4.8, 1.8],\n",
              "       [6.9, 3.1, 5.4, 2.1],\n",
              "       [6.7, 3.1, 5.6, 2.4],\n",
              "       [6.9, 3.1, 5.1, 2.3],\n",
              "       [5.8, 2.7, 5.1, 1.9],\n",
              "       [6.8, 3.2, 5.9, 2.3],\n",
              "       [6.7, 3.3, 5.7, 2.5],\n",
              "       [6.7, 3. , 5.2, 2.3],\n",
              "       [6.3, 2.5, 5. , 1.9],\n",
              "       [6.5, 3. , 5.2, 2. ],\n",
              "       [6.2, 3.4, 5.4, 2.3],\n",
              "       [5.9, 3. , 5.1, 1.8]])"
            ]
          },
          "metadata": {},
          "execution_count": 4
        }
      ],
      "source": [
        "X"
      ]
    },
    {
      "cell_type": "markdown",
      "id": "ab24a35c",
      "metadata": {
        "id": "ab24a35c"
      },
      "source": [
        "The `y` vector length is 150. It has three unique values: 0, 1 and 2. Each value represents a species of iris flower."
      ]
    },
    {
      "cell_type": "code",
      "execution_count": 5,
      "id": "7f3edc35",
      "metadata": {
        "id": "7f3edc35",
        "colab": {
          "base_uri": "https://localhost:8080/"
        },
        "outputId": "ac94b1a0-3bbc-4a8f-bfa5-fab0941dac68"
      },
      "outputs": [
        {
          "output_type": "execute_result",
          "data": {
            "text/plain": [
              "array([0, 0, 0, 0, 0, 0, 0, 0, 0, 0, 0, 0, 0, 0, 0, 0, 0, 0, 0, 0, 0, 0,\n",
              "       0, 0, 0, 0, 0, 0, 0, 0, 0, 0, 0, 0, 0, 0, 0, 0, 0, 0, 0, 0, 0, 0,\n",
              "       0, 0, 0, 0, 0, 0, 1, 1, 1, 1, 1, 1, 1, 1, 1, 1, 1, 1, 1, 1, 1, 1,\n",
              "       1, 1, 1, 1, 1, 1, 1, 1, 1, 1, 1, 1, 1, 1, 1, 1, 1, 1, 1, 1, 1, 1,\n",
              "       1, 1, 1, 1, 1, 1, 1, 1, 1, 1, 1, 1, 2, 2, 2, 2, 2, 2, 2, 2, 2, 2,\n",
              "       2, 2, 2, 2, 2, 2, 2, 2, 2, 2, 2, 2, 2, 2, 2, 2, 2, 2, 2, 2, 2, 2,\n",
              "       2, 2, 2, 2, 2, 2, 2, 2, 2, 2, 2, 2, 2, 2, 2, 2, 2, 2])"
            ]
          },
          "metadata": {},
          "execution_count": 5
        }
      ],
      "source": [
        "y"
      ]
    },
    {
      "cell_type": "code",
      "execution_count": 6,
      "id": "f13d72b2",
      "metadata": {
        "id": "f13d72b2",
        "colab": {
          "base_uri": "https://localhost:8080/"
        },
        "outputId": "36bbb6bc-dc54-4af9-b8d5-657e5190b690"
      },
      "outputs": [
        {
          "output_type": "execute_result",
          "data": {
            "text/plain": [
              "(150,)"
            ]
          },
          "metadata": {},
          "execution_count": 6
        }
      ],
      "source": [
        "y.shape"
      ]
    },
    {
      "cell_type": "code",
      "execution_count": 7,
      "id": "76c51b8d",
      "metadata": {
        "id": "76c51b8d",
        "colab": {
          "base_uri": "https://localhost:8080/"
        },
        "outputId": "05903b7e-9de8-4a4f-9b1b-408f7b4c6162"
      },
      "outputs": [
        {
          "output_type": "execute_result",
          "data": {
            "text/plain": [
              "['DESCR',\n",
              " 'data',\n",
              " 'data_module',\n",
              " 'feature_names',\n",
              " 'filename',\n",
              " 'frame',\n",
              " 'target',\n",
              " 'target_names']"
            ]
          },
          "metadata": {},
          "execution_count": 7
        }
      ],
      "source": [
        "dir(iris)"
      ]
    },
    {
      "cell_type": "code",
      "execution_count": 8,
      "id": "6d238d65",
      "metadata": {
        "id": "6d238d65",
        "colab": {
          "base_uri": "https://localhost:8080/"
        },
        "outputId": "face163e-7cb8-4943-e1b7-94ce809ee18d"
      },
      "outputs": [
        {
          "output_type": "execute_result",
          "data": {
            "text/plain": [
              "array(['setosa', 'versicolor', 'virginica'], dtype='<U10')"
            ]
          },
          "metadata": {},
          "execution_count": 8
        }
      ],
      "source": [
        "iris.target_names"
      ]
    },
    {
      "cell_type": "code",
      "execution_count": 9,
      "id": "68a42146",
      "metadata": {
        "id": "68a42146",
        "colab": {
          "base_uri": "https://localhost:8080/"
        },
        "outputId": "b5caf489-5df0-4f7e-b6c3-ebf7849e33c4"
      },
      "outputs": [
        {
          "output_type": "execute_result",
          "data": {
            "text/plain": [
              "['sepal length (cm)',\n",
              " 'sepal width (cm)',\n",
              " 'petal length (cm)',\n",
              " 'petal width (cm)']"
            ]
          },
          "metadata": {},
          "execution_count": 9
        }
      ],
      "source": [
        "iris.feature_names"
      ]
    },
    {
      "cell_type": "markdown",
      "id": "76353ccf",
      "metadata": {
        "id": "76353ccf"
      },
      "source": [
        "### Extension: Show the summary table of iris data including min, max, median, quantiles"
      ]
    },
    {
      "cell_type": "code",
      "execution_count": 11,
      "id": "b4d08f11",
      "metadata": {
        "id": "b4d08f11"
      },
      "outputs": [],
      "source": [
        "# Insert your answer here\n",
        "import pandas as pd\n",
        "\n",
        "iris_df = pd.DataFrame(iris.data, columns=iris.feature_names)"
      ]
    },
    {
      "cell_type": "code",
      "execution_count": 12,
      "id": "7df4ab83",
      "metadata": {
        "id": "7df4ab83",
        "colab": {
          "base_uri": "https://localhost:8080/",
          "height": 300
        },
        "outputId": "f11803c0-5e0f-42a6-bd6b-cf5b2e666adc"
      },
      "outputs": [
        {
          "output_type": "execute_result",
          "data": {
            "text/plain": [
              "       sepal length (cm)  sepal width (cm)  petal length (cm)  \\\n",
              "count         150.000000        150.000000         150.000000   \n",
              "mean            5.843333          3.057333           3.758000   \n",
              "std             0.828066          0.435866           1.765298   \n",
              "min             4.300000          2.000000           1.000000   \n",
              "25%             5.100000          2.800000           1.600000   \n",
              "50%             5.800000          3.000000           4.350000   \n",
              "75%             6.400000          3.300000           5.100000   \n",
              "max             7.900000          4.400000           6.900000   \n",
              "\n",
              "       petal width (cm)  \n",
              "count        150.000000  \n",
              "mean           1.199333  \n",
              "std            0.762238  \n",
              "min            0.100000  \n",
              "25%            0.300000  \n",
              "50%            1.300000  \n",
              "75%            1.800000  \n",
              "max            2.500000  "
            ],
            "text/html": [
              "\n",
              "  <div id=\"df-38d30dce-e46c-406b-b923-e949c0f81f82\">\n",
              "    <div class=\"colab-df-container\">\n",
              "      <div>\n",
              "<style scoped>\n",
              "    .dataframe tbody tr th:only-of-type {\n",
              "        vertical-align: middle;\n",
              "    }\n",
              "\n",
              "    .dataframe tbody tr th {\n",
              "        vertical-align: top;\n",
              "    }\n",
              "\n",
              "    .dataframe thead th {\n",
              "        text-align: right;\n",
              "    }\n",
              "</style>\n",
              "<table border=\"1\" class=\"dataframe\">\n",
              "  <thead>\n",
              "    <tr style=\"text-align: right;\">\n",
              "      <th></th>\n",
              "      <th>sepal length (cm)</th>\n",
              "      <th>sepal width (cm)</th>\n",
              "      <th>petal length (cm)</th>\n",
              "      <th>petal width (cm)</th>\n",
              "    </tr>\n",
              "  </thead>\n",
              "  <tbody>\n",
              "    <tr>\n",
              "      <th>count</th>\n",
              "      <td>150.000000</td>\n",
              "      <td>150.000000</td>\n",
              "      <td>150.000000</td>\n",
              "      <td>150.000000</td>\n",
              "    </tr>\n",
              "    <tr>\n",
              "      <th>mean</th>\n",
              "      <td>5.843333</td>\n",
              "      <td>3.057333</td>\n",
              "      <td>3.758000</td>\n",
              "      <td>1.199333</td>\n",
              "    </tr>\n",
              "    <tr>\n",
              "      <th>std</th>\n",
              "      <td>0.828066</td>\n",
              "      <td>0.435866</td>\n",
              "      <td>1.765298</td>\n",
              "      <td>0.762238</td>\n",
              "    </tr>\n",
              "    <tr>\n",
              "      <th>min</th>\n",
              "      <td>4.300000</td>\n",
              "      <td>2.000000</td>\n",
              "      <td>1.000000</td>\n",
              "      <td>0.100000</td>\n",
              "    </tr>\n",
              "    <tr>\n",
              "      <th>25%</th>\n",
              "      <td>5.100000</td>\n",
              "      <td>2.800000</td>\n",
              "      <td>1.600000</td>\n",
              "      <td>0.300000</td>\n",
              "    </tr>\n",
              "    <tr>\n",
              "      <th>50%</th>\n",
              "      <td>5.800000</td>\n",
              "      <td>3.000000</td>\n",
              "      <td>4.350000</td>\n",
              "      <td>1.300000</td>\n",
              "    </tr>\n",
              "    <tr>\n",
              "      <th>75%</th>\n",
              "      <td>6.400000</td>\n",
              "      <td>3.300000</td>\n",
              "      <td>5.100000</td>\n",
              "      <td>1.800000</td>\n",
              "    </tr>\n",
              "    <tr>\n",
              "      <th>max</th>\n",
              "      <td>7.900000</td>\n",
              "      <td>4.400000</td>\n",
              "      <td>6.900000</td>\n",
              "      <td>2.500000</td>\n",
              "    </tr>\n",
              "  </tbody>\n",
              "</table>\n",
              "</div>\n",
              "      <button class=\"colab-df-convert\" onclick=\"convertToInteractive('df-38d30dce-e46c-406b-b923-e949c0f81f82')\"\n",
              "              title=\"Convert this dataframe to an interactive table.\"\n",
              "              style=\"display:none;\">\n",
              "        \n",
              "  <svg xmlns=\"http://www.w3.org/2000/svg\" height=\"24px\"viewBox=\"0 0 24 24\"\n",
              "       width=\"24px\">\n",
              "    <path d=\"M0 0h24v24H0V0z\" fill=\"none\"/>\n",
              "    <path d=\"M18.56 5.44l.94 2.06.94-2.06 2.06-.94-2.06-.94-.94-2.06-.94 2.06-2.06.94zm-11 1L8.5 8.5l.94-2.06 2.06-.94-2.06-.94L8.5 2.5l-.94 2.06-2.06.94zm10 10l.94 2.06.94-2.06 2.06-.94-2.06-.94-.94-2.06-.94 2.06-2.06.94z\"/><path d=\"M17.41 7.96l-1.37-1.37c-.4-.4-.92-.59-1.43-.59-.52 0-1.04.2-1.43.59L10.3 9.45l-7.72 7.72c-.78.78-.78 2.05 0 2.83L4 21.41c.39.39.9.59 1.41.59.51 0 1.02-.2 1.41-.59l7.78-7.78 2.81-2.81c.8-.78.8-2.07 0-2.86zM5.41 20L4 18.59l7.72-7.72 1.47 1.35L5.41 20z\"/>\n",
              "  </svg>\n",
              "      </button>\n",
              "      \n",
              "  <style>\n",
              "    .colab-df-container {\n",
              "      display:flex;\n",
              "      flex-wrap:wrap;\n",
              "      gap: 12px;\n",
              "    }\n",
              "\n",
              "    .colab-df-convert {\n",
              "      background-color: #E8F0FE;\n",
              "      border: none;\n",
              "      border-radius: 50%;\n",
              "      cursor: pointer;\n",
              "      display: none;\n",
              "      fill: #1967D2;\n",
              "      height: 32px;\n",
              "      padding: 0 0 0 0;\n",
              "      width: 32px;\n",
              "    }\n",
              "\n",
              "    .colab-df-convert:hover {\n",
              "      background-color: #E2EBFA;\n",
              "      box-shadow: 0px 1px 2px rgba(60, 64, 67, 0.3), 0px 1px 3px 1px rgba(60, 64, 67, 0.15);\n",
              "      fill: #174EA6;\n",
              "    }\n",
              "\n",
              "    [theme=dark] .colab-df-convert {\n",
              "      background-color: #3B4455;\n",
              "      fill: #D2E3FC;\n",
              "    }\n",
              "\n",
              "    [theme=dark] .colab-df-convert:hover {\n",
              "      background-color: #434B5C;\n",
              "      box-shadow: 0px 1px 3px 1px rgba(0, 0, 0, 0.15);\n",
              "      filter: drop-shadow(0px 1px 2px rgba(0, 0, 0, 0.3));\n",
              "      fill: #FFFFFF;\n",
              "    }\n",
              "  </style>\n",
              "\n",
              "      <script>\n",
              "        const buttonEl =\n",
              "          document.querySelector('#df-38d30dce-e46c-406b-b923-e949c0f81f82 button.colab-df-convert');\n",
              "        buttonEl.style.display =\n",
              "          google.colab.kernel.accessAllowed ? 'block' : 'none';\n",
              "\n",
              "        async function convertToInteractive(key) {\n",
              "          const element = document.querySelector('#df-38d30dce-e46c-406b-b923-e949c0f81f82');\n",
              "          const dataTable =\n",
              "            await google.colab.kernel.invokeFunction('convertToInteractive',\n",
              "                                                     [key], {});\n",
              "          if (!dataTable) return;\n",
              "\n",
              "          const docLinkHtml = 'Like what you see? Visit the ' +\n",
              "            '<a target=\"_blank\" href=https://colab.research.google.com/notebooks/data_table.ipynb>data table notebook</a>'\n",
              "            + ' to learn more about interactive tables.';\n",
              "          element.innerHTML = '';\n",
              "          dataTable['output_type'] = 'display_data';\n",
              "          await google.colab.output.renderOutput(dataTable, element);\n",
              "          const docLink = document.createElement('div');\n",
              "          docLink.innerHTML = docLinkHtml;\n",
              "          element.appendChild(docLink);\n",
              "        }\n",
              "      </script>\n",
              "    </div>\n",
              "  </div>\n",
              "  "
            ]
          },
          "metadata": {},
          "execution_count": 12
        }
      ],
      "source": [
        "iris_df.describe()"
      ]
    },
    {
      "cell_type": "markdown",
      "id": "3f8657d6",
      "metadata": {
        "id": "3f8657d6"
      },
      "source": [
        "## Part 1Exploratory Data Analysis\n",
        "### Part 1a\n",
        "Generate [scatter plots](https://matplotlib.org/stable/api/_as_gen/matplotlib.pyplot.scatter.html) using each pair of the attributes as axis. You should generate $6 = {4 \\choose 2}$ scatter plots."
      ]
    },
    {
      "cell_type": "code",
      "execution_count": null,
      "id": "f9527938",
      "metadata": {
        "id": "f9527938"
      },
      "outputs": [],
      "source": [
        "## Insert your answer here..."
      ]
    },
    {
      "cell_type": "code",
      "execution_count": null,
      "id": "0b383de3",
      "metadata": {
        "id": "0b383de3"
      },
      "outputs": [],
      "source": [
        "import matplotlib.pyplot as plt\n",
        "import seaborn as sns"
      ]
    },
    {
      "cell_type": "markdown",
      "id": "cd277e9d",
      "metadata": {
        "id": "cd277e9d"
      },
      "source": [
        "### Extension: Draw a boxplot of sepal length (cm), sepal width (cm), petal length (cm), petal width (cm). Use color to show the different target class.\n",
        "\n",
        "Some links to help you: \n",
        "\n",
        "https://seaborn.pydata.org/generated/seaborn.boxplot.html\n",
        "\n",
        "https://matplotlib.org/stable/api/_as_gen/matplotlib.pyplot.boxplot.html"
      ]
    },
    {
      "cell_type": "code",
      "execution_count": null,
      "id": "c16982fa",
      "metadata": {
        "scrolled": true,
        "id": "c16982fa"
      },
      "outputs": [],
      "source": [
        "# Insert your code ..."
      ]
    },
    {
      "cell_type": "markdown",
      "id": "a4e449bf",
      "metadata": {
        "id": "a4e449bf"
      },
      "source": [
        "### Part 1b\n",
        "If you were to draw linear decision boundaries to separate the classes, which scatter plot do you think will have the least error and which the most?"
      ]
    },
    {
      "cell_type": "markdown",
      "id": "454308cd",
      "metadata": {
        "id": "454308cd"
      },
      "source": [
        "### Insert your 1b answer here\n",
        "..."
      ]
    },
    {
      "cell_type": "markdown",
      "id": "42080844",
      "metadata": {
        "id": "42080844"
      },
      "source": [
        "### Part 1c\n",
        "Scatter plots using two attributes of the data are equivalent to project the four dimensional data down to two dimensions using axis-parallel projection. Principal component analysis (PCA) is a technique to linearly project the data to lower dimensions that are not necessarily axis-parallel. Use PCA to project the data down to two dimensions.\n",
        "\n",
        "Documentation for PCA:\n",
        "+ API https://scikit-learn.org/stable/modules/generated/sklearn.decomposition.PCA.html#sklearn.decomposition.PCA\n",
        "+ User guide https://scikit-learn.org/stable/modules/decomposition.html#pca"
      ]
    },
    {
      "cell_type": "code",
      "execution_count": null,
      "id": "fddc462e",
      "metadata": {
        "id": "fddc462e"
      },
      "outputs": [],
      "source": [
        "### Insert your code here"
      ]
    },
    {
      "cell_type": "markdown",
      "id": "c97960f5",
      "metadata": {
        "id": "c97960f5"
      },
      "source": [
        "### In the case of the Iris dataset, does PCA do a better job of separating the classes?"
      ]
    },
    {
      "cell_type": "markdown",
      "id": "bd4bd827",
      "metadata": {
        "id": "bd4bd827"
      },
      "source": [
        "### Insert your answer\n",
        "..."
      ]
    },
    {
      "cell_type": "markdown",
      "id": "778b4264",
      "metadata": {
        "id": "778b4264"
      },
      "source": [
        "## Part 2 K Nearest Neighbor"
      ]
    },
    {
      "cell_type": "markdown",
      "id": "dc9c227d",
      "metadata": {
        "id": "dc9c227d"
      },
      "source": [
        "Split the dataset into train set and test set. Use 67 percent of the dataset for training, and use 33 percent for testing."
      ]
    },
    {
      "cell_type": "code",
      "execution_count": null,
      "id": "1acd00eb",
      "metadata": {
        "id": "1acd00eb"
      },
      "outputs": [],
      "source": [
        "X_train, X_test, y_train, y_test = train_test_split(\n",
        "    X, y, test_size=0.33, random_state=42)"
      ]
    },
    {
      "cell_type": "code",
      "execution_count": null,
      "id": "5e05b95d",
      "metadata": {
        "id": "5e05b95d"
      },
      "outputs": [],
      "source": [
        "print(\"Number of instances in the train set:\", X_train.shape[0])\n",
        "print(\"Number of instances in the test set:\", X_test.shape[0])"
      ]
    },
    {
      "cell_type": "markdown",
      "id": "d2dd3e9f",
      "metadata": {
        "id": "d2dd3e9f"
      },
      "source": [
        "### Part 2a Create a KNeibhorsClassifier with `n_neighbors = 5`. And, train the classifier using the train set."
      ]
    },
    {
      "cell_type": "code",
      "execution_count": null,
      "id": "275638b4",
      "metadata": {
        "id": "275638b4"
      },
      "outputs": [],
      "source": [
        "### Insert you answer here"
      ]
    },
    {
      "cell_type": "code",
      "execution_count": null,
      "id": "ffb93df6",
      "metadata": {
        "id": "ffb93df6"
      },
      "outputs": [],
      "source": [
        "print(\"Using\", '____', \"neighbors:\")\n",
        "print(\"The train accuracy score is:\", '______')\n",
        "print(\"The test accuracy score is :\", '______')"
      ]
    },
    {
      "cell_type": "markdown",
      "id": "9cd63dce",
      "metadata": {
        "id": "9cd63dce"
      },
      "source": [
        "### Part 2b Tuning hyperparameter k\n",
        "As we have seen in class, hyperparameter k of the K Nearest Neighbors classification affects the inductive bias. For this part train multiple near neighbor classifier models, store the results in a DataFrame. The plot plot training error and testing error versus N/k, where N = 100."
      ]
    },
    {
      "cell_type": "markdown",
      "id": "7231c537",
      "metadata": {
        "id": "7231c537"
      },
      "source": [
        "### Extension: Use different metric for knn classification. \n",
        "    - 1). Euclidean distance \n",
        "    - 2). Manhattan distance \n",
        "    - 3). Chebyshev distance.\n",
        "    \n",
        "\n",
        "Distance Metrics Documentation: https://scikit-learn.org/stable/modules/generated/sklearn.metrics.pairwise.distance_metrics.html#sklearn.metrics.pairwise.distance_metrics\n",
        " "
      ]
    },
    {
      "cell_type": "code",
      "execution_count": null,
      "id": "1fd1968b",
      "metadata": {
        "id": "1fd1968b"
      },
      "outputs": [],
      "source": [
        "k_list = [1, 3, 5, 7, 9, 11, 13, 15, 50]\n",
        "train = []\n",
        "test = []"
      ]
    },
    {
      "cell_type": "code",
      "execution_count": null,
      "id": "43406fad",
      "metadata": {
        "id": "43406fad"
      },
      "outputs": [],
      "source": [
        "### Insert your code\n",
        "# Use the `result` to store the DataFrame\n",
        "# euclidean"
      ]
    },
    {
      "cell_type": "code",
      "execution_count": null,
      "id": "f547fb5b",
      "metadata": {
        "scrolled": false,
        "id": "f547fb5b"
      },
      "outputs": [],
      "source": [
        "result.plot(x='N/k', y=['train error', 'test error'], ylabel='accuracy')"
      ]
    },
    {
      "cell_type": "code",
      "execution_count": null,
      "id": "0ce4bc47",
      "metadata": {
        "id": "0ce4bc47"
      },
      "outputs": [],
      "source": [
        "### Insert your code\n",
        "# Use the `result` to store the DataFrame\n",
        "# manhattan"
      ]
    },
    {
      "cell_type": "code",
      "execution_count": null,
      "id": "fb40f927",
      "metadata": {
        "id": "fb40f927"
      },
      "outputs": [],
      "source": [
        "result.plot(x='N/k', y=['train error', 'test error'], ylabel='accuracy')"
      ]
    },
    {
      "cell_type": "code",
      "execution_count": null,
      "id": "57f2db50",
      "metadata": {
        "id": "57f2db50"
      },
      "outputs": [],
      "source": [
        "### Insert your code\n",
        "# Use the `result` to store the DataFrame\n",
        "# chebyshev"
      ]
    },
    {
      "cell_type": "code",
      "execution_count": null,
      "id": "affb5183",
      "metadata": {
        "id": "affb5183"
      },
      "outputs": [],
      "source": [
        "result.plot(x='N/k', y=['train error', 'test error'], ylabel='accuracy')"
      ]
    },
    {
      "cell_type": "markdown",
      "id": "fa70c94d",
      "metadata": {
        "id": "fa70c94d"
      },
      "source": [
        "### Part 2c Plot decision boundaries of K Nearest Neighbors\n",
        "Use Scikit Learn's [DecisionBoundaryDisplay](https://scikit-learn.org/stable/modules/generated/sklearn.inspection.DecisionBoundaryDisplay.html#sklearn.inspection.DecisionBoundaryDisplay) class to visualize the nearest neighbor boundaries as k is varied.\n",
        "\n",
        "https://scikit-learn.org/stable/modules/generated/sklearn.inspection.DecisionBoundaryDisplay.html#sklearn.inspection.DecisionBoundaryDisplay"
      ]
    },
    {
      "cell_type": "code",
      "execution_count": null,
      "id": "863e52cc",
      "metadata": {
        "id": "863e52cc"
      },
      "outputs": [],
      "source": [
        "k_list = [1, 3, 5, 7, 9, 11, 13, 15, 50]"
      ]
    },
    {
      "cell_type": "markdown",
      "id": "d2063b42",
      "metadata": {
        "id": "d2063b42"
      },
      "source": [
        "Simplify the problem by using only the first 2 attributes of the dataset"
      ]
    },
    {
      "cell_type": "code",
      "execution_count": null,
      "id": "3773e395",
      "metadata": {
        "id": "3773e395"
      },
      "outputs": [],
      "source": [
        "X2 = iris.data[:, :2]"
      ]
    },
    {
      "cell_type": "code",
      "execution_count": null,
      "id": "8d25312a",
      "metadata": {
        "scrolled": false,
        "id": "8d25312a"
      },
      "outputs": [],
      "source": [
        "### Insert your code here"
      ]
    }
  ],
  "metadata": {
    "kernelspec": {
      "display_name": "Python 3 (ipykernel)",
      "language": "python",
      "name": "python3"
    },
    "language_info": {
      "codemirror_mode": {
        "name": "ipython",
        "version": 3
      },
      "file_extension": ".py",
      "mimetype": "text/x-python",
      "name": "python",
      "nbconvert_exporter": "python",
      "pygments_lexer": "ipython3",
      "version": "3.10.9"
    },
    "colab": {
      "provenance": [],
      "include_colab_link": true
    }
  },
  "nbformat": 4,
  "nbformat_minor": 5
}