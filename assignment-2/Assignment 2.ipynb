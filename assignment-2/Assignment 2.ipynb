{
  "cells": [
    {
      "cell_type": "markdown",
      "id": "d1697abd",
      "metadata": {
        "id": "d1697abd"
      },
      "source": [
        "# Assignment 2: Exploratory Data Analysis and K Nearest Neighbors Classification"
      ]
    },
    {
      "cell_type": "markdown",
      "id": "7c6bf81f",
      "metadata": {
        "id": "7c6bf81f"
      },
      "source": [
        "For this assignment you will perform exploratory data analysis to visualize Fisher’s Iris dataset using Scikit Learn. And, you will explore the bias/variance trade-off by applying k-nearest neighbors classification to the Iris dataset and varying the hyperparameter k.\n",
        "\n",
        "Documentation for Scikit Learn:\n",
        "+ The top level documenation page is here: https://scikit-learn.org/stable/index.html\n",
        "+ The API for the KNearestNeighborsClassifier is here: https://scikit-learn.org/stable/modules/generated/sklearn.neighbors.KNeighborsClassifier.html#sklearn.neighbors.KNeighborsClassifier\n",
        "+ The User Guide for KNearestNeighborsClassifier is here: https://scikit-learn.org/stable/modules/neighbors.html#classification\n",
        "+ Scikit Learn provides many Jupyter notebook examples on how use the toolkit. These Jupyter notebook examples can be run on MyBinder: https://scikit-learn.org/stable/auto_examples/index.html\n",
        "\n",
        "For more information about the Iris dataset, see this page https://en.wikipedia.org/wiki/Iris_flower_data_set."
      ]
    },
    {
      "cell_type": "code",
      "execution_count": null,
      "id": "e7179951",
      "metadata": {
        "id": "e7179951"
      },
      "outputs": [],
      "source": [
        "import matplotlib.pyplot as plt\n",
        "from mpl_toolkits.mplot3d import Axes3D\n",
        "from sklearn import datasets\n",
        "from sklearn import neighbors\n",
        "from sklearn.model_selection import train_test_split\n",
        "from pandas import DataFrame"
      ]
    },
    {
      "cell_type": "markdown",
      "id": "fc297327",
      "metadata": {
        "id": "fc297327"
      },
      "source": [
        "Load Iris dataset"
      ]
    },
    {
      "cell_type": "code",
      "execution_count": null,
      "id": "f40820bc",
      "metadata": {
        "id": "f40820bc"
      },
      "outputs": [],
      "source": [
        "iris = datasets.load_iris()\n",
        "X = iris.data  \n",
        "y = iris.target"
      ]
    },
    {
      "cell_type": "code",
      "execution_count": null,
      "id": "3723bdc3",
      "metadata": {
        "id": "3723bdc3"
      },
      "outputs": [],
      "source": [
        "print(\"Number of instances in the iris dataset:\", X.shape[0])\n",
        "print(\"Number of features in the iris dataset:\", X.shape[1])\n",
        "print(\"The dimension of the data matrix X is\", X.shape)"
      ]
    },
    {
      "cell_type": "code",
      "execution_count": null,
      "id": "e7eafd13",
      "metadata": {
        "scrolled": true,
        "id": "e7eafd13"
      },
      "outputs": [],
      "source": [
        "X"
      ]
    },
    {
      "cell_type": "markdown",
      "id": "ab24a35c",
      "metadata": {
        "id": "ab24a35c"
      },
      "source": [
        "The `y` vector length is 150. It has three unique values: 0, 1 and 2. Each value represents a species of iris flower."
      ]
    },
    {
      "cell_type": "code",
      "execution_count": null,
      "id": "7f3edc35",
      "metadata": {
        "id": "7f3edc35"
      },
      "outputs": [],
      "source": [
        "y"
      ]
    },
    {
      "cell_type": "code",
      "execution_count": null,
      "id": "f13d72b2",
      "metadata": {
        "id": "f13d72b2"
      },
      "outputs": [],
      "source": [
        "y.shape"
      ]
    },
    {
      "cell_type": "code",
      "execution_count": null,
      "id": "76c51b8d",
      "metadata": {
        "id": "76c51b8d"
      },
      "outputs": [],
      "source": [
        "dir(iris)"
      ]
    },
    {
      "cell_type": "code",
      "execution_count": null,
      "id": "6d238d65",
      "metadata": {
        "id": "6d238d65"
      },
      "outputs": [],
      "source": [
        "iris.target_names"
      ]
    },
    {
      "cell_type": "code",
      "execution_count": null,
      "id": "68a42146",
      "metadata": {
        "id": "68a42146"
      },
      "outputs": [],
      "source": [
        "iris.feature_names"
      ]
    },
    {
      "cell_type": "markdown",
      "id": "76353ccf",
      "metadata": {
        "id": "76353ccf"
      },
      "source": [
        "### Extension: Show the summary table of iris data including min, max, median, quantiles"
      ]
    },
    {
      "cell_type": "code",
      "execution_count": null,
      "id": "b4d08f11",
      "metadata": {
        "id": "b4d08f11"
      },
      "outputs": [],
      "source": [
        "# Insert your answer here"
      ]
    },
    {
      "cell_type": "code",
      "execution_count": null,
      "id": "7df4ab83",
      "metadata": {
        "id": "7df4ab83"
      },
      "outputs": [],
      "source": [
        "iris_df.describe()"
      ]
    },
    {
      "cell_type": "markdown",
      "id": "3f8657d6",
      "metadata": {
        "id": "3f8657d6"
      },
      "source": [
        "## Part 1Exploratory Data Analysis\n",
        "### Part 1a\n",
        "Generate [scatter plots](https://matplotlib.org/stable/api/_as_gen/matplotlib.pyplot.scatter.html) using each pair of the attributes as axis. You should generate $6 = {4 \\choose 2}$ scatter plots."
      ]
    },
    {
      "cell_type": "code",
      "execution_count": null,
      "id": "f9527938",
      "metadata": {
        "id": "f9527938"
      },
      "outputs": [],
      "source": [
        "## Insert your answer here..."
      ]
    },
    {
      "cell_type": "code",
      "execution_count": null,
      "id": "0b383de3",
      "metadata": {
        "id": "0b383de3"
      },
      "outputs": [],
      "source": [
        "import matplotlib.pyplot as plt\n",
        "import seaborn as sns"
      ]
    },
    {
      "cell_type": "markdown",
      "id": "cd277e9d",
      "metadata": {
        "id": "cd277e9d"
      },
      "source": [
        "### Extension: Draw a boxplot of sepal length (cm), sepal width (cm), petal length (cm), petal width (cm). Use color to show the different target class.\n",
        "\n",
        "Some links to help you: \n",
        "\n",
        "https://seaborn.pydata.org/generated/seaborn.boxplot.html\n",
        "\n",
        "https://matplotlib.org/stable/api/_as_gen/matplotlib.pyplot.boxplot.html"
      ]
    },
    {
      "cell_type": "code",
      "execution_count": null,
      "id": "c16982fa",
      "metadata": {
        "scrolled": true,
        "id": "c16982fa"
      },
      "outputs": [],
      "source": [
        "# Insert your code ..."
      ]
    },
    {
      "cell_type": "markdown",
      "id": "a4e449bf",
      "metadata": {
        "id": "a4e449bf"
      },
      "source": [
        "### Part 1b\n",
        "If you were to draw linear decision boundaries to separate the classes, which scatter plot do you think will have the least error and which the most?"
      ]
    },
    {
      "cell_type": "markdown",
      "id": "454308cd",
      "metadata": {
        "id": "454308cd"
      },
      "source": [
        "### Insert your 1b answer here\n",
        "..."
      ]
    },
    {
      "cell_type": "markdown",
      "id": "42080844",
      "metadata": {
        "id": "42080844"
      },
      "source": [
        "### Part 1c\n",
        "Scatter plots using two attributes of the data are equivalent to project the four dimensional data down to two dimensions using axis-parallel projection. Principal component analysis (PCA) is a technique to linearly project the data to lower dimensions that are not necessarily axis-parallel. Use PCA to project the data down to two dimensions.\n",
        "\n",
        "Documentation for PCA:\n",
        "+ API https://scikit-learn.org/stable/modules/generated/sklearn.decomposition.PCA.html#sklearn.decomposition.PCA\n",
        "+ User guide https://scikit-learn.org/stable/modules/decomposition.html#pca"
      ]
    },
    {
      "cell_type": "code",
      "execution_count": null,
      "id": "fddc462e",
      "metadata": {
        "id": "fddc462e"
      },
      "outputs": [],
      "source": [
        "### Insert your code here"
      ]
    },
    {
      "cell_type": "markdown",
      "id": "c97960f5",
      "metadata": {
        "id": "c97960f5"
      },
      "source": [
        "### In the case of the Iris dataset, does PCA do a better job of separating the classes?"
      ]
    },
    {
      "cell_type": "markdown",
      "id": "bd4bd827",
      "metadata": {
        "id": "bd4bd827"
      },
      "source": [
        "### Insert your answer\n",
        "..."
      ]
    },
    {
      "cell_type": "markdown",
      "id": "778b4264",
      "metadata": {
        "id": "778b4264"
      },
      "source": [
        "## Part 2 K Nearest Neighbor"
      ]
    },
    {
      "cell_type": "markdown",
      "id": "dc9c227d",
      "metadata": {
        "id": "dc9c227d"
      },
      "source": [
        "Split the dataset into train set and test set. Use 67 percent of the dataset for training, and use 33 percent for testing."
      ]
    },
    {
      "cell_type": "code",
      "execution_count": null,
      "id": "1acd00eb",
      "metadata": {
        "id": "1acd00eb"
      },
      "outputs": [],
      "source": [
        "X_train, X_test, y_train, y_test = train_test_split(\n",
        "    X, y, test_size=0.33, random_state=42)"
      ]
    },
    {
      "cell_type": "code",
      "execution_count": null,
      "id": "5e05b95d",
      "metadata": {
        "id": "5e05b95d"
      },
      "outputs": [],
      "source": [
        "print(\"Number of instances in the train set:\", X_train.shape[0])\n",
        "print(\"Number of instances in the test set:\", X_test.shape[0])"
      ]
    },
    {
      "cell_type": "markdown",
      "id": "d2dd3e9f",
      "metadata": {
        "id": "d2dd3e9f"
      },
      "source": [
        "### Part 2a Create a KNeibhorsClassifier with `n_neighbors = 5`. And, train the classifier using the train set."
      ]
    },
    {
      "cell_type": "code",
      "execution_count": null,
      "id": "275638b4",
      "metadata": {
        "id": "275638b4"
      },
      "outputs": [],
      "source": [
        "### Insert you answer here"
      ]
    },
    {
      "cell_type": "code",
      "execution_count": null,
      "id": "ffb93df6",
      "metadata": {
        "id": "ffb93df6"
      },
      "outputs": [],
      "source": [
        "print(\"Using\", '____', \"neighbors:\")\n",
        "print(\"The train accuracy score is:\", '______')\n",
        "print(\"The test accuracy score is :\", '______')"
      ]
    },
    {
      "cell_type": "markdown",
      "id": "9cd63dce",
      "metadata": {
        "id": "9cd63dce"
      },
      "source": [
        "### Part 2b Tuning hyperparameter k\n",
        "As we have seen in class, hyperparameter k of the K Nearest Neighbors classification affects the inductive bias. For this part train multiple near neighbor classifier models, store the results in a DataFrame. The plot plot training error and testing error versus N/k, where N = 100."
      ]
    },
    {
      "cell_type": "markdown",
      "id": "7231c537",
      "metadata": {
        "id": "7231c537"
      },
      "source": [
        "### Extension: Use different metric for knn classification. \n",
        "    - 1). Euclidean distance \n",
        "    - 2). Manhattan distance \n",
        "    - 3). Chebyshev distance.\n",
        "    \n",
        "\n",
        "Distance Metrics Documentation: https://scikit-learn.org/stable/modules/generated/sklearn.metrics.pairwise.distance_metrics.html#sklearn.metrics.pairwise.distance_metrics\n",
        " "
      ]
    },
    {
      "cell_type": "code",
      "execution_count": null,
      "id": "1fd1968b",
      "metadata": {
        "id": "1fd1968b"
      },
      "outputs": [],
      "source": [
        "k_list = [1, 3, 5, 7, 9, 11, 13, 15, 50]\n",
        "train = []\n",
        "test = []"
      ]
    },
    {
      "cell_type": "code",
      "execution_count": null,
      "id": "43406fad",
      "metadata": {
        "id": "43406fad"
      },
      "outputs": [],
      "source": [
        "### Insert your code\n",
        "# Use the `result` to store the DataFrame\n",
        "# euclidean"
      ]
    },
    {
      "cell_type": "code",
      "execution_count": null,
      "id": "f547fb5b",
      "metadata": {
        "scrolled": false,
        "id": "f547fb5b"
      },
      "outputs": [],
      "source": [
        "result.plot(x='N/k', y=['train error', 'test error'], ylabel='accuracy')"
      ]
    },
    {
      "cell_type": "code",
      "execution_count": null,
      "id": "0ce4bc47",
      "metadata": {
        "id": "0ce4bc47"
      },
      "outputs": [],
      "source": [
        "### Insert your code\n",
        "# Use the `result` to store the DataFrame\n",
        "# manhattan"
      ]
    },
    {
      "cell_type": "code",
      "execution_count": null,
      "id": "fb40f927",
      "metadata": {
        "id": "fb40f927"
      },
      "outputs": [],
      "source": [
        "result.plot(x='N/k', y=['train error', 'test error'], ylabel='accuracy')"
      ]
    },
    {
      "cell_type": "code",
      "execution_count": null,
      "id": "57f2db50",
      "metadata": {
        "id": "57f2db50"
      },
      "outputs": [],
      "source": [
        "### Insert your code\n",
        "# Use the `result` to store the DataFrame\n",
        "# chebyshev"
      ]
    },
    {
      "cell_type": "code",
      "execution_count": null,
      "id": "affb5183",
      "metadata": {
        "id": "affb5183"
      },
      "outputs": [],
      "source": [
        "result.plot(x='N/k', y=['train error', 'test error'], ylabel='accuracy')"
      ]
    },
    {
      "cell_type": "markdown",
      "id": "fa70c94d",
      "metadata": {
        "id": "fa70c94d"
      },
      "source": [
        "### Part 2c Plot decision boundaries of K Nearest Neighbors\n",
        "Use Scikit Learn's [DecisionBoundaryDisplay](https://scikit-learn.org/stable/modules/generated/sklearn.inspection.DecisionBoundaryDisplay.html#sklearn.inspection.DecisionBoundaryDisplay) class to visualize the nearest neighbor boundaries as k is varied.\n",
        "\n",
        "https://scikit-learn.org/stable/modules/generated/sklearn.inspection.DecisionBoundaryDisplay.html#sklearn.inspection.DecisionBoundaryDisplay"
      ]
    },
    {
      "cell_type": "code",
      "execution_count": null,
      "id": "863e52cc",
      "metadata": {
        "id": "863e52cc"
      },
      "outputs": [],
      "source": [
        "k_list = [1, 3, 5, 7, 9, 11, 13, 15, 50]"
      ]
    },
    {
      "cell_type": "markdown",
      "id": "d2063b42",
      "metadata": {
        "id": "d2063b42"
      },
      "source": [
        "Simplify the problem by using only the first 2 attributes of the dataset"
      ]
    },
    {
      "cell_type": "code",
      "execution_count": null,
      "id": "3773e395",
      "metadata": {
        "id": "3773e395"
      },
      "outputs": [],
      "source": [
        "X2 = iris.data[:, :2]"
      ]
    },
    {
      "cell_type": "code",
      "execution_count": null,
      "id": "8d25312a",
      "metadata": {
        "scrolled": false,
        "id": "8d25312a"
      },
      "outputs": [],
      "source": [
        "### Insert your code here"
      ]
    }
  ],
  "metadata": {
    "kernelspec": {
      "display_name": "Python 3 (ipykernel)",
      "language": "python",
      "name": "python3"
    },
    "language_info": {
      "codemirror_mode": {
        "name": "ipython",
        "version": 3
      },
      "file_extension": ".py",
      "mimetype": "text/x-python",
      "name": "python",
      "nbconvert_exporter": "python",
      "pygments_lexer": "ipython3",
      "version": "3.10.9"
    },
    "colab": {
      "provenance": []
    }
  },
  "nbformat": 4,
  "nbformat_minor": 5
}